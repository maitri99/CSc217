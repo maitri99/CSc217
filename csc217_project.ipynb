{
 "cells": [
  {
   "cell_type": "markdown",
   "metadata": {},
   "source": [
    "## Maitri Patel\n",
    "\n",
    "## CSC 217 - Spring 2019 - Final Project"
   ]
  },
  {
   "cell_type": "markdown",
   "metadata": {},
   "source": [
    "For my project, I will examine some trends of public spending in the fields of education, health and infrastructure through exploratory analysis. This data deals with 175 countries, however, here we have neglected the countries with null data for the sake of outliers-free results. That being said, I have 118 countries and the data covers average values from the year 2006 to 2016. \n",
    "It was collected by a survey initiated by The World Bank which you can find [here](https://datacatalog.worldbank.org/dataset/efficiency-public-spending-education-health-and-infrastructure). \n",
    "\n",
    "Here, I will use several visuals like boxplots and a couple of other graphs which reveals how much spreaded our data is, to find if any of the developing countries appear as an outliers and a couple of other statistical measures like mean, standard deviation and variance to determine the values of trends I discover. \n",
    "Since it deals with a large number of countries and multiple variations of GDPs, private spending and public spending, even a small amount of change in the values can make a big difference in our results and analyses. Therefore, it's very necessary to study the differences and even a little variations which can bring significant changes in our assumptions.    \n",
    "\n",
    "First I'll import the necessary packages down, along with downloading and cleaning the data."
   ]
  },
  {
   "cell_type": "code",
   "execution_count": 2,
   "metadata": {},
   "outputs": [],
   "source": [
    "import pandas as pd\n",
    "import numpy as np\n",
    "import seaborn as sns\n",
    "import matplotlib.pyplot as plt\n",
    "%matplotlib inline\n",
    "import scipy.stats as stats\n",
    "import math\n",
    "import statistics as st"
   ]
  },
  {
   "cell_type": "code",
   "execution_count": 3,
   "metadata": {},
   "outputs": [
    {
     "name": "stdout",
     "output_type": "stream",
     "text": [
      "Enter Guess: 1\n",
      "Tolerable Error: 0.0001\n",
      "Maximum Step: 3\n",
      "\n",
      "\n",
      "*** NEWTON RAPHSON METHOD IMPLEMENTATION ***\n",
      "Iteration-1, x1 = -5.500000 and f(x1) = -147.875000\n",
      "Iteration-2, x1 = -3.775510 and f(x1) = -43.940373\n",
      "Iteration-3, x1 = -2.611941 and f(x1) = -13.759569\n",
      "\n",
      "Not Convergent.\n"
     ]
    }
   ],
   "source": [
    "# Defining Function\n",
    "def f(x):\n",
    "    return x**3 - 5*x - 9\n",
    "\n",
    "# Defining derivative of function\n",
    "def g(x):\n",
    "    return 3*x**2 - 5\n",
    "\n",
    "# Implementing Newton Raphson Method\n",
    "\n",
    "def newtonRaphson(x0,e,N):\n",
    "    print('\\n\\n*** NEWTON RAPHSON METHOD IMPLEMENTATION ***')\n",
    "    step = 1\n",
    "    flag = 1\n",
    "    condition = True\n",
    "    while condition:\n",
    "        if g(x0) == 0.0:\n",
    "            print('Divide by zero error!')\n",
    "            break\n",
    "        \n",
    "        x1 = x0 - f(x0)/g(x0)\n",
    "        print('Iteration-%d, x1 = %0.6f and f(x1) = %0.6f' % (step, x1, f(x1)))\n",
    "        x0 = x1\n",
    "        step = step + 1\n",
    "        \n",
    "        if step > N:\n",
    "            flag = 0\n",
    "            break\n",
    "        \n",
    "        condition = abs(f(x1)) > e\n",
    "    \n",
    "    if flag==1:\n",
    "        print('\\nRequired root is: %0.8f' % x1)\n",
    "    else:\n",
    "        print('\\nNot Convergent.')\n",
    "\n",
    "\n",
    "# Input Section\n",
    "x0 = input('Enter Guess: ')\n",
    "e = input('Tolerable Error: ')\n",
    "N = input('Maximum Step: ')\n",
    "\n",
    "# Converting x0 and e to float\n",
    "x0 = float(x0)\n",
    "e = float(e)\n",
    "\n",
    "# Converting N to integer\n",
    "N = int(N)\n",
    "\n",
    "\n",
    "#Note: You can combine above three section like this\n",
    "# x0 = float(input('Enter Guess: '))\n",
    "# e = float(input('Tolerable Error: '))\n",
    "# N = int(input('Maximum Step: '))\n",
    "\n",
    "# Starting Newton Raphson Method\n",
    "newtonRaphson(x0,e,N)"
   ]
  },
  {
   "cell_type": "code",
   "execution_count": null,
   "metadata": {},
   "outputs": [],
   "source": [
    "df = pd.read_excel('D:/data.xlsx', sheet_name = 4, header = 0)"
   ]
  },
  {
   "cell_type": "markdown",
   "metadata": {},
   "source": [
    "### CLEANING THE DATA"
   ]
  },
  {
   "cell_type": "code",
   "execution_count": null,
   "metadata": {},
   "outputs": [],
   "source": [
    "df.dtypes"
   ]
  },
  {
   "cell_type": "code",
   "execution_count": null,
   "metadata": {},
   "outputs": [],
   "source": [
    "df.isnull().sum()"
   ]
  },
  {
   "cell_type": "code",
   "execution_count": 28,
   "metadata": {},
   "outputs": [],
   "source": [
    "df2 = df.dropna()"
   ]
  },
  {
   "cell_type": "code",
   "execution_count": 29,
   "metadata": {},
   "outputs": [
    {
     "data": {
      "text/plain": [
       "Country name                                                                 0\n",
       "Total spending on health (% of GDP)                                          0\n",
       "Public spending on Education (% of GDP)                                      0\n",
       "Quality of overall infrastructure, 1-7 (best)                                0\n",
       "Population (Millions Persons) [LP]                                           0\n",
       "Total investment spending per capita                                         0\n",
       "Government expenditure on education, total (% of GDP) [SE.XPD.TOTL.GD.ZS]    0\n",
       "dtype: int64"
      ]
     },
     "execution_count": 29,
     "metadata": {},
     "output_type": "execute_result"
    }
   ],
   "source": [
    "df2.isnull().sum()"
   ]
  },
  {
   "cell_type": "code",
   "execution_count": 30,
   "metadata": {},
   "outputs": [
    {
     "data": {
      "text/plain": [
       "118"
      ]
     },
     "execution_count": 30,
     "metadata": {},
     "output_type": "execute_result"
    }
   ],
   "source": [
    "len(df2)"
   ]
  },
  {
   "cell_type": "markdown",
   "metadata": {},
   "source": [
    "Since we had very negligible amount of null values, we cleaned our data by eliminating all the null values. So all together, we have 118 total countries to evaluate and analyse. "
   ]
  },
  {
   "cell_type": "markdown",
   "metadata": {},
   "source": [
    "### EXPLORATORY ANALYSES"
   ]
  },
  {
   "cell_type": "code",
   "execution_count": 31,
   "metadata": {
    "scrolled": true
   },
   "outputs": [
    {
     "data": {
      "text/plain": [
       "{'whiskers': [<matplotlib.lines.Line2D at 0x15d66759780>,\n",
       "  <matplotlib.lines.Line2D at 0x15d66759b38>],\n",
       " 'caps': [<matplotlib.lines.Line2D at 0x15d66759f28>,\n",
       "  <matplotlib.lines.Line2D at 0x15d66759fd0>],\n",
       " 'boxes': [<matplotlib.lines.Line2D at 0x15d667592e8>],\n",
       " 'medians': [<matplotlib.lines.Line2D at 0x15d652639e8>],\n",
       " 'fliers': [<matplotlib.lines.Line2D at 0x15d652636a0>],\n",
       " 'means': []}"
      ]
     },
     "execution_count": 31,
     "metadata": {},
     "output_type": "execute_result"
    },
    {
     "data": {
      "image/png": "[encoded data removed]",
      "text/plain": [
       "<Figure size 360x360 with 1 Axes>"
      ]
     },
     "metadata": {
      "needs_background": "light"
     },
     "output_type": "display_data"
    }
   ],
   "source": [
    "#Plot a Boxplot\n",
    "fig = plt.figure(figsize=(5,5))\n",
    "plt.boxplot(df2['Total spending on health (% of GDP)'])"
   ]
  },
  {
   "cell_type": "code",
   "execution_count": 32,
   "metadata": {},
   "outputs": [
    {
     "data": {
      "text/plain": [
       "0.1337942125"
      ]
     },
     "execution_count": 32,
     "metadata": {},
     "output_type": "execute_result"
    }
   ],
   "source": [
    "#anything above this is an outlier\n",
    "np.percentile(df2['Total spending on health (% of GDP)'], q=75) + (np.percentile(df2['Total spending on health (% of GDP)'], q=75) - np.percentile(df2['Total spending on health (% of GDP)'], q=25)) * 1.5"
   ]
  },
  {
   "cell_type": "code",
   "execution_count": 33,
   "metadata": {},
   "outputs": [
    {
     "data": {
      "text/plain": [
       "Country name\n",
       "United States    0.165542\n",
       "Name: Total spending on health (% of GDP), dtype: float64"
      ]
     },
     "execution_count": 33,
     "metadata": {},
     "output_type": "execute_result"
    }
   ],
   "source": [
    "a = df2.groupby('Country name')[\"Total spending on health (% of GDP)\"].mean()\n",
    "a[a == a.max()]"
   ]
  },
  {
   "cell_type": "code",
   "execution_count": 34,
   "metadata": {
    "scrolled": true
   },
   "outputs": [
    {
     "data": {
      "text/plain": [
       "{'whiskers': [<matplotlib.lines.Line2D at 0x15d666ffa58>,\n",
       "  <matplotlib.lines.Line2D at 0x15d666ffe10>],\n",
       " 'caps': [<matplotlib.lines.Line2D at 0x15d666ffeb8>,\n",
       "  <matplotlib.lines.Line2D at 0x15d652745c0>],\n",
       " 'boxes': [<matplotlib.lines.Line2D at 0x15d666ff5f8>],\n",
       " 'medians': [<matplotlib.lines.Line2D at 0x15d652749b0>],\n",
       " 'fliers': [<matplotlib.lines.Line2D at 0x15d65274cf8>],\n",
       " 'means': []}"
      ]
     },
     "execution_count": 34,
     "metadata": {},
     "output_type": "execute_result"
    },
    {
     "data": {
      "image/png": "[encoded data removed]",
      "text/plain": [
       "<Figure size 360x360 with 1 Axes>"
      ]
     },
     "metadata": {
      "needs_background": "light"
     },
     "output_type": "display_data"
    }
   ],
   "source": [
    "#Plot a Boxplot\n",
    "fig = plt.figure(figsize=(5,5))\n",
    "plt.boxplot(df2['Public spending on Education (% of GDP) '])"
   ]
  },
  {
   "cell_type": "code",
   "execution_count": 35,
   "metadata": {},
   "outputs": [
    {
     "data": {
      "text/plain": [
       "0.08542526249999999"
      ]
     },
     "execution_count": 35,
     "metadata": {},
     "output_type": "execute_result"
    }
   ],
   "source": [
    "#anything above this for the outliers\n",
    "np.percentile(df2['Public spending on Education (% of GDP) '], q=75) + (np.percentile(df2['Public spending on Education (% of GDP) '], q=75) - np.percentile(df2['Public spending on Education (% of GDP) '], q=25)) * 1.5"
   ]
  },
  {
   "cell_type": "code",
   "execution_count": 36,
   "metadata": {},
   "outputs": [
    {
     "data": {
      "text/plain": [
       "0.004888762500000008"
      ]
     },
     "execution_count": 36,
     "metadata": {},
     "output_type": "execute_result"
    }
   ],
   "source": [
    "#anything below this is an outlier\n",
    "np.percentile(df2['Public spending on Education (% of GDP) '], q=25) - (np.percentile(df2['Public spending on Education (% of GDP) '], q=75) - np.percentile(df2['Public spending on Education (% of GDP) '], q=25)) * 1.5"
   ]
  },
  {
   "cell_type": "code",
   "execution_count": 37,
   "metadata": {},
   "outputs": [
    {
     "data": {
      "text/plain": [
       "Country name\n",
       "Botswana    0.092422\n",
       "Name: Public spending on Education (% of GDP) , dtype: float64"
      ]
     },
     "execution_count": 37,
     "metadata": {},
     "output_type": "execute_result"
    }
   ],
   "source": [
    "b = df2.groupby('Country name')[\"Public spending on Education (% of GDP) \"].mean()\n",
    "b[b == b.max()]"
   ]
  },
  {
   "cell_type": "code",
   "execution_count": 38,
   "metadata": {},
   "outputs": [
    {
     "data": {
      "text/plain": [
       "(array([ 8., 13., 22., 18., 13., 15., 10.,  7.,  6.,  6.]),\n",
       " array([2.09539 , 2.552736, 3.010082, 3.467428, 3.924774, 4.38212 ,\n",
       "        4.839466, 5.296812, 5.754158, 6.211504, 6.66885 ]),\n",
       " <a list of 10 Patch objects>)"
      ]
     },
     "execution_count": 38,
     "metadata": {},
     "output_type": "execute_result"
    },
    {
     "data": {
      "image/png": "[encoded data removed]",
      "text/plain": [
       "<Figure size 360x360 with 1 Axes>"
      ]
     },
     "metadata": {
      "needs_background": "light"
     },
     "output_type": "display_data"
    }
   ],
   "source": [
    "#Plot a histogram to see what's the most common rank under which majority of countries fall\n",
    "fig = plt.figure(figsize=(5,5))\n",
    "plt.hist(df2['Quality of overall infrastructure, 1-7 (best)'])"
   ]
  },
  {
   "cell_type": "markdown",
   "metadata": {},
   "source": [
    "From this histogram, we can see that most countries fall under 3-4 in a quality scale of 1 to 7. So, majority of the countries have an average quality of overall infrastructure. "
   ]
  },
  {
   "cell_type": "code",
   "execution_count": 39,
   "metadata": {
    "scrolled": true
   },
   "outputs": [
    {
     "data": {
      "text/html": [
       "<div>\n",
       "<style scoped>\n",
       "    .dataframe tbody tr th:only-of-type {\n",
       "        vertical-align: middle;\n",
       "    }\n",
       "\n",
       "    .dataframe tbody tr th {\n",
       "        vertical-align: top;\n",
       "    }\n",
       "\n",
       "    .dataframe thead th {\n",
       "        text-align: right;\n",
       "    }\n",
       "</style>\n",
       "<table border=\"1\" class=\"dataframe\">\n",
       "  <thead>\n",
       "    <tr style=\"text-align: right;\">\n",
       "      <th></th>\n",
       "      <th>Country name</th>\n",
       "      <th>Total spending on health (% of GDP)</th>\n",
       "      <th>Public spending on Education (% of GDP)</th>\n",
       "      <th>Quality of overall infrastructure, 1-7 (best)</th>\n",
       "      <th>Population (Millions Persons) [LP]</th>\n",
       "      <th>Total investment spending per capita</th>\n",
       "      <th>Government expenditure on education, total (% of GDP) [SE.XPD.TOTL.GD.ZS]</th>\n",
       "    </tr>\n",
       "  </thead>\n",
       "  <tbody>\n",
       "    <tr>\n",
       "      <th>5</th>\n",
       "      <td>Austria</td>\n",
       "      <td>0.109071</td>\n",
       "      <td>0.054905</td>\n",
       "      <td>6.31994</td>\n",
       "      <td>8435687.50</td>\n",
       "      <td>10666.020</td>\n",
       "      <td>5.490451</td>\n",
       "    </tr>\n",
       "    <tr>\n",
       "      <th>19</th>\n",
       "      <td>Switzerland</td>\n",
       "      <td>0.109647</td>\n",
       "      <td>0.049790</td>\n",
       "      <td>6.66885</td>\n",
       "      <td>7874363.60</td>\n",
       "      <td>17982.720</td>\n",
       "      <td>4.979023</td>\n",
       "    </tr>\n",
       "    <tr>\n",
       "      <th>28</th>\n",
       "      <td>Germany</td>\n",
       "      <td>0.108839</td>\n",
       "      <td>0.047184</td>\n",
       "      <td>6.28701</td>\n",
       "      <td>80927795.00</td>\n",
       "      <td>8621.967</td>\n",
       "      <td>4.718364</td>\n",
       "    </tr>\n",
       "    <tr>\n",
       "      <th>29</th>\n",
       "      <td>Denmark</td>\n",
       "      <td>0.107278</td>\n",
       "      <td>0.080549</td>\n",
       "      <td>6.13692</td>\n",
       "      <td>5557681.50</td>\n",
       "      <td>12024.550</td>\n",
       "      <td>8.054886</td>\n",
       "    </tr>\n",
       "    <tr>\n",
       "      <th>37</th>\n",
       "      <td>Finland</td>\n",
       "      <td>0.089571</td>\n",
       "      <td>0.064964</td>\n",
       "      <td>6.42468</td>\n",
       "      <td>5374937.10</td>\n",
       "      <td>10346.440</td>\n",
       "      <td>6.496452</td>\n",
       "    </tr>\n",
       "    <tr>\n",
       "      <th>38</th>\n",
       "      <td>France</td>\n",
       "      <td>0.110532</td>\n",
       "      <td>0.055331</td>\n",
       "      <td>6.38608</td>\n",
       "      <td>63061983.00</td>\n",
       "      <td>9507.572</td>\n",
       "      <td>5.533064</td>\n",
       "    </tr>\n",
       "    <tr>\n",
       "      <th>54</th>\n",
       "      <td>Iceland</td>\n",
       "      <td>0.088275</td>\n",
       "      <td>0.073712</td>\n",
       "      <td>6.22703</td>\n",
       "      <td>322137.73</td>\n",
       "      <td>8855.236</td>\n",
       "      <td>7.371169</td>\n",
       "    </tr>\n",
       "    <tr>\n",
       "      <th>85</th>\n",
       "      <td>Netherlands</td>\n",
       "      <td>0.102815</td>\n",
       "      <td>0.053652</td>\n",
       "      <td>6.02311</td>\n",
       "      <td>16673000.00</td>\n",
       "      <td>10170.390</td>\n",
       "      <td>5.365204</td>\n",
       "    </tr>\n",
       "  </tbody>\n",
       "</table>\n",
       "</div>"
      ],
      "text/plain": [
       "   Country name  Total spending on health (% of GDP)  \\\n",
       "5       Austria                             0.109071   \n",
       "19  Switzerland                             0.109647   \n",
       "28      Germany                             0.108839   \n",
       "29      Denmark                             0.107278   \n",
       "37      Finland                             0.089571   \n",
       "38       France                             0.110532   \n",
       "54      Iceland                             0.088275   \n",
       "85  Netherlands                             0.102815   \n",
       "\n",
       "    Public spending on Education (% of GDP)   \\\n",
       "5                                   0.054905   \n",
       "19                                  0.049790   \n",
       "28                                  0.047184   \n",
       "29                                  0.080549   \n",
       "37                                  0.064964   \n",
       "38                                  0.055331   \n",
       "54                                  0.073712   \n",
       "85                                  0.053652   \n",
       "\n",
       "    Quality of overall infrastructure, 1-7 (best)  \\\n",
       "5                                         6.31994   \n",
       "19                                        6.66885   \n",
       "28                                        6.28701   \n",
       "29                                        6.13692   \n",
       "37                                        6.42468   \n",
       "38                                        6.38608   \n",
       "54                                        6.22703   \n",
       "85                                        6.02311   \n",
       "\n",
       "    Population (Millions Persons) [LP]  Total investment spending per capita  \\\n",
       "5                           8435687.50                             10666.020   \n",
       "19                          7874363.60                             17982.720   \n",
       "28                         80927795.00                              8621.967   \n",
       "29                          5557681.50                             12024.550   \n",
       "37                          5374937.10                             10346.440   \n",
       "38                         63061983.00                              9507.572   \n",
       "54                           322137.73                              8855.236   \n",
       "85                         16673000.00                             10170.390   \n",
       "\n",
       "    Government expenditure on education, total (% of GDP) [SE.XPD.TOTL.GD.ZS]  \n",
       "5                                            5.490451                          \n",
       "19                                           4.979023                          \n",
       "28                                           4.718364                          \n",
       "29                                           8.054886                          \n",
       "37                                           6.496452                          \n",
       "38                                           5.533064                          \n",
       "54                                           7.371169                          \n",
       "85                                           5.365204                          "
      ]
     },
     "execution_count": 39,
     "metadata": {},
     "output_type": "execute_result"
    }
   ],
   "source": [
    "df3 = df2[df2[\"Quality of overall infrastructure, 1-7 (best)\"] > 6]\n",
    "df3"
   ]
  },
  {
   "cell_type": "markdown",
   "metadata": {},
   "source": [
    "I have 8 countries out of 118 countries which have the best quality of infrastructure since they all are ranked 7 from the scale on 1-7."
   ]
  },
  {
   "cell_type": "code",
   "execution_count": 40,
   "metadata": {
    "scrolled": false
   },
   "outputs": [
    {
     "data": {
      "text/plain": [
       "{'whiskers': [<matplotlib.lines.Line2D at 0x15d66857358>,\n",
       "  <matplotlib.lines.Line2D at 0x15d6687ce10>],\n",
       " 'caps': [<matplotlib.lines.Line2D at 0x15d66886438>,\n",
       "  <matplotlib.lines.Line2D at 0x15d66886780>],\n",
       " 'boxes': [<matplotlib.lines.Line2D at 0x15d6687c9b0>],\n",
       " 'medians': [<matplotlib.lines.Line2D at 0x15d66886ac8>],\n",
       " 'fliers': [<matplotlib.lines.Line2D at 0x15d66886e10>],\n",
       " 'means': []}"
      ]
     },
     "execution_count": 40,
     "metadata": {},
     "output_type": "execute_result"
    },
    {
     "data": {
      "image/png": "[encoded data removed]",
      "text/plain": [
       "<Figure size 360x360 with 1 Axes>"
      ]
     },
     "metadata": {
      "needs_background": "light"
     },
     "output_type": "display_data"
    }
   ],
   "source": [
    "#Plot a Boxplot\n",
    "fig = plt.figure(figsize=(5,5))\n",
    "plt.boxplot(df2['Total investment spending per capita'])"
   ]
  },
  {
   "cell_type": "code",
   "execution_count": 41,
   "metadata": {},
   "outputs": [
    {
     "data": {
      "text/plain": [
       "Country name\n",
       "Luxembourg    19991.03\n",
       "Name: Total investment spending per capita, dtype: float64"
      ]
     },
     "execution_count": 41,
     "metadata": {},
     "output_type": "execute_result"
    }
   ],
   "source": [
    "c = df2.groupby('Country name')[\"Total investment spending per capita\"].mean()\n",
    "c[c == c.max()]"
   ]
  },
  {
   "cell_type": "markdown",
   "metadata": {},
   "source": [
    "Whoa! Luxembourg spends the highest income per capita among all the countries. Neither is it's infrastructural facility notable enough, nor does it spend considerably on education and health. Wonder where the Luxembourg people like to spend their money after all!"
   ]
  },
  {
   "cell_type": "code",
   "execution_count": 42,
   "metadata": {},
   "outputs": [
    {
     "data": {
      "text/plain": [
       "Total spending on health (% of GDP)                                          5.726290e-04\n",
       "Public spending on Education (% of GDP)                                      2.394951e-04\n",
       "Quality of overall infrastructure, 1-7 (best)                                1.266145e+00\n",
       "Population (Millions Persons) [LP]                                           1.429490e+16\n",
       "Total investment spending per capita                                         1.733854e+07\n",
       "Government expenditure on education, total (% of GDP) [SE.XPD.TOTL.GD.ZS]    2.636163e+00\n",
       "dtype: float64"
      ]
     },
     "execution_count": 42,
     "metadata": {},
     "output_type": "execute_result"
    }
   ],
   "source": [
    "df2.var()"
   ]
  },
  {
   "cell_type": "code",
   "execution_count": 43,
   "metadata": {},
   "outputs": [
    {
     "name": "stdout",
     "output_type": "stream",
     "text": [
      "the mean of health spending is  0.0669250415254237\n",
      "median of health spending is  0.06375310000000001\n",
      "standard deviation of health spending is  0.023828055145589236\n"
     ]
    }
   ],
   "source": [
    "a = np.mean(df2['Total spending on health (% of GDP)'])\n",
    "print(\"the mean of health spending is \", a)\n",
    "b = np.median(df2['Total spending on health (% of GDP)'])\n",
    "print(\"median of health spending is \", b)\n",
    "c = np.std(df2['Total spending on health (% of GDP)'])\n",
    "print(\"standard deviation of health spending is \", c)"
   ]
  },
  {
   "cell_type": "code",
   "execution_count": 44,
   "metadata": {},
   "outputs": [
    {
     "name": "stdout",
     "output_type": "stream",
     "text": [
      "the mean on education expenditure is  0.04615557711864406\n",
      "the median on education expenditure is  0.0448422\n",
      "standard deviation of education expenditure is  0.015409915894464719\n"
     ]
    }
   ],
   "source": [
    "a= np.mean(df2['Public spending on Education (% of GDP) '])\n",
    "print(\"the mean on education expenditure is \", a)\n",
    "b = np.median(df2['Public spending on Education (% of GDP) '])\n",
    "print(\"the median on education expenditure is \", b)\n",
    "c = np.std(df2['Public spending on Education (% of GDP) '])\n",
    "print(\"standard deviation of education expenditure is \", c)"
   ]
  },
  {
   "cell_type": "code",
   "execution_count": 45,
   "metadata": {},
   "outputs": [
    {
     "name": "stdout",
     "output_type": "stream",
     "text": [
      "the mean on infrastructure quality is  4.055034152542375\n",
      "the median on infrastructure quality is  3.855045\n",
      "standard deviation of infrastructure quality is  1.1204530327561337\n"
     ]
    }
   ],
   "source": [
    "a = np.mean(df2['Quality of overall infrastructure, 1-7 (best)'])\n",
    "print(\"the mean on infrastructure quality is \", a)\n",
    "b = np.median(df2[\"Quality of overall infrastructure, 1-7 (best)\"])\n",
    "print(\"the median on infrastructure quality is \", b)\n",
    "c = np.std(df2['Quality of overall infrastructure, 1-7 (best)'])\n",
    "print(\"standard deviation of infrastructure quality is \", c)"
   ]
  },
  {
   "cell_type": "markdown",
   "metadata": {},
   "source": [
    "### RELATIONSHIP BETWEEN TOTAL SPENDING AND SPENDING IN HEALTH, EDUCATION AND                                                                                            INFRASTRUCTURE"
   ]
  },
  {
   "cell_type": "markdown",
   "metadata": {},
   "source": [
    "#### Relation between total spending and spending on infrastructure"
   ]
  },
  {
   "cell_type": "code",
   "execution_count": 159,
   "metadata": {},
   "outputs": [],
   "source": [
    "def evaluate_linear_relationship(a, b):\n",
    "    slope = np.cov(a, b, bias=True)[0][1] / np.var(a)\n",
    "    intercept = np.mean(b) - (slope * np.mean(a))\n",
    "    predictions = (slope * a) + intercept\n",
    "    residuals = b - predictions\n",
    "    return slope, intercept, predictions, residuals"
   ]
  },
  {
   "cell_type": "code",
   "execution_count": 160,
   "metadata": {},
   "outputs": [],
   "source": [
    "slope, intercept, predictions, residuals = evaluate_linear_relationship(df2[\"Total investment spending per capita\"],\n",
    "                                                                        df2[\"Quality of overall infrastructure, 1-7 (best)\"])"
   ]
  },
  {
   "cell_type": "code",
   "execution_count": 161,
   "metadata": {},
   "outputs": [
    {
     "data": {
      "text/plain": [
       "Text(0.5, 0.92, 'Relationship between total spending and quality of infrastructure')"
      ]
     },
     "execution_count": 161,
     "metadata": {},
     "output_type": "execute_result"
    },
    {
     "data": {
      "image/png": "[encoded data removed]",
      "text/plain": [
       "<Figure size 432x288 with 1 Axes>"
      ]
     },
     "metadata": {
      "needs_background": "light"
     },
     "output_type": "display_data"
    }
   ],
   "source": [
    "\n",
    "plt.scatter(df2[\"Total investment spending per capita\"],\n",
    "            df2[\"Quality of overall infrastructure, 1-7 (best)\"])\n",
    "sorted_order = np.argsort(df2[\"Total investment spending per capita\"])\n",
    "plt.plot(df2[\"Total investment spending per capita\"][sorted_order], predictions[sorted_order])\n",
    "plt.ylabel(\"Quality of overall infrastructure\")\n",
    "plt.xlabel(\"Total investment spending per capita\")\n",
    "fig.suptitle(\"Relationship between total spending and quality of infrastructure\", fontsize=15, y=0.92)"
   ]
  },
  {
   "cell_type": "code",
   "execution_count": 162,
   "metadata": {},
   "outputs": [
    {
     "data": {
      "text/plain": [
       "0.5631213439835548"
      ]
     },
     "execution_count": 162,
     "metadata": {},
     "output_type": "execute_result"
    }
   ],
   "source": [
    "#R-Squared Value\n",
    "np.var(predictions) / np.var(df2[\"Quality of overall infrastructure, 1-7 (best)\"])"
   ]
  },
  {
   "cell_type": "code",
   "execution_count": 163,
   "metadata": {
    "scrolled": false
   },
   "outputs": [
    {
     "data": {
      "text/plain": [
       "Text(0.5, 0.92, 'Residuals')"
      ]
     },
     "execution_count": 163,
     "metadata": {},
     "output_type": "execute_result"
    },
    {
     "data": {
      "image/png": "[encoded data removed]",
      "text/plain": [
       "<Figure size 432x288 with 1 Axes>"
      ]
     },
     "metadata": {
      "needs_background": "light"
     },
     "output_type": "display_data"
    }
   ],
   "source": [
    "plt.scatter(predictions, residuals)\n",
    "plt.plot([predictions.min(), predictions.max()], [0,0], linestyle='dotted')\n",
    "plt.xlabel(\"Predictions\")\n",
    "plt.ylabel('Residuals')\n",
    "fig.suptitle('Residuals', fontsize=15, y=0.92)"
   ]
  },
  {
   "cell_type": "markdown",
   "metadata": {},
   "source": [
    "As we can see from our graphs, my model is heteroskedastic as there is a linear pattern in the relationship between total spending and spending on infrastructure. Although the datapoints seems to be skewed to the right, the R-squared value of 56% suggests that the standard deviation of the error is around 30% of the standard deviation of the dependent variable."
   ]
  },
  {
   "cell_type": "markdown",
   "metadata": {},
   "source": [
    "#### Relation between total spending and spending on health"
   ]
  },
  {
   "cell_type": "code",
   "execution_count": 164,
   "metadata": {},
   "outputs": [],
   "source": [
    "slope, intercept, predictions, residuals = evaluate_linear_relationship(df2[\"Total investment spending per capita\"],\n",
    "                                                                        df2[\"Total spending on health (% of GDP)\"])"
   ]
  },
  {
   "cell_type": "code",
   "execution_count": 165,
   "metadata": {},
   "outputs": [
    {
     "data": {
      "text/plain": [
       "Text(0.5, 0.92, 'Relationship between total spending and spending on health')"
      ]
     },
     "execution_count": 165,
     "metadata": {},
     "output_type": "execute_result"
    },
    {
     "data": {
      "image/png": "[encoded data removed]",
      "text/plain": [
       "<Figure size 432x288 with 1 Axes>"
      ]
     },
     "metadata": {
      "needs_background": "light"
     },
     "output_type": "display_data"
    }
   ],
   "source": [
    "plt.scatter(df2[\"Total investment spending per capita\"],\n",
    "            df2[\"Total spending on health (% of GDP)\"])\n",
    "sorted_order = np.argsort(df2[\"Total investment spending per capita\"])\n",
    "plt.plot(df2[\"Total investment spending per capita\"][sorted_order], predictions[sorted_order])\n",
    "plt.ylabel(\"Total spending on health\")\n",
    "plt.xlabel(\"Total investment spending per capita\")\n",
    "fig.suptitle(\"Relationship between total spending and spending on health\", fontsize=15, y=0.92)"
   ]
  },
  {
   "cell_type": "code",
   "execution_count": 166,
   "metadata": {},
   "outputs": [
    {
     "data": {
      "text/plain": [
       "0.24373087942288885"
      ]
     },
     "execution_count": 166,
     "metadata": {},
     "output_type": "execute_result"
    }
   ],
   "source": [
    "#R-Squared Value\n",
    "np.var(predictions) / np.var(df2[\"Total spending on health (% of GDP)\"])"
   ]
  },
  {
   "cell_type": "code",
   "execution_count": 168,
   "metadata": {},
   "outputs": [
    {
     "data": {
      "text/plain": [
       "Text(0.5, 0.92, 'Residuals')"
      ]
     },
     "execution_count": 168,
     "metadata": {},
     "output_type": "execute_result"
    },
    {
     "data": {
      "image/png": "[encoded data removed]",
      "text/plain": [
       "<Figure size 432x288 with 1 Axes>"
      ]
     },
     "metadata": {
      "needs_background": "light"
     },
     "output_type": "display_data"
    }
   ],
   "source": [
    "plt.scatter(predictions, residuals)\n",
    "plt.plot([predictions.min(), predictions.max()], [0,0], linestyle='dotted')\n",
    "plt.xlabel(\"Predictions\")\n",
    "plt.ylabel('Residuals')\n",
    "fig.suptitle('Residuals', fontsize=15, y=0.92)"
   ]
  },
  {
   "cell_type": "markdown",
   "metadata": {},
   "source": [
    "Based on the very low R-squared value and heteroskedasticity, my predictions of the model in the public spending shows that even noisy, high-variability data has a significant trend. The trend indicates that the predictor variable still provides information about the response even though a couple of data points fall further from the regression line."
   ]
  },
  {
   "cell_type": "markdown",
   "metadata": {},
   "source": [
    "#### Relationship between total spending and spending on education"
   ]
  },
  {
   "cell_type": "code",
   "execution_count": 169,
   "metadata": {},
   "outputs": [],
   "source": [
    "slope, intercept, predictions, residuals = evaluate_linear_relationship(df2[\"Total investment spending per capita\"],\n",
    "                                                                        df2[\"Public spending on Education (% of GDP) \"])"
   ]
  },
  {
   "cell_type": "code",
   "execution_count": 170,
   "metadata": {},
   "outputs": [
    {
     "data": {
      "text/plain": [
       "Text(0.5, 0.92, 'Relationship between total spending and spending on education')"
      ]
     },
     "execution_count": 170,
     "metadata": {},
     "output_type": "execute_result"
    },
    {
     "data": {
      "image/png": "[encoded data removed]",
      "text/plain": [
       "<Figure size 432x288 with 1 Axes>"
      ]
     },
     "metadata": {
      "needs_background": "light"
     },
     "output_type": "display_data"
    }
   ],
   "source": [
    "plt.scatter(df2[\"Total investment spending per capita\"],\n",
    "            df2[\"Public spending on Education (% of GDP) \"])\n",
    "sorted_order = np.argsort(df2[\"Total investment spending per capita\"])\n",
    "plt.plot(df2[\"Total investment spending per capita\"][sorted_order], predictions[sorted_order])\n",
    "plt.ylabel(\"Public spending on Education (% of GDP) \")\n",
    "plt.xlabel(\"Total investment spending per capita\")\n",
    "fig.suptitle(\"Relationship between total spending and spending on education\", fontsize=15, y=0.92)"
   ]
  },
  {
   "cell_type": "code",
   "execution_count": 171,
   "metadata": {},
   "outputs": [
    {
     "data": {
      "text/plain": [
       "0.028483853152221652"
      ]
     },
     "execution_count": 171,
     "metadata": {},
     "output_type": "execute_result"
    }
   ],
   "source": [
    "#R-Squared Value\n",
    "np.var(predictions) / np.var(df2[\"Total spending on health (% of GDP)\"])"
   ]
  },
  {
   "cell_type": "code",
   "execution_count": 172,
   "metadata": {},
   "outputs": [
    {
     "data": {
      "text/plain": [
       "Text(0.5, 0.92, 'Residuals')"
      ]
     },
     "execution_count": 172,
     "metadata": {},
     "output_type": "execute_result"
    },
    {
     "data": {
      "image/png": "[encoded data removed]",
      "text/plain": [
       "<Figure size 432x288 with 1 Axes>"
      ]
     },
     "metadata": {
      "needs_background": "light"
     },
     "output_type": "display_data"
    }
   ],
   "source": [
    "plt.scatter(predictions, residuals)\n",
    "plt.plot([predictions.min(), predictions.max()], [0,0], linestyle='dotted')\n",
    "plt.xlabel(\"Predictions\")\n",
    "plt.ylabel('Residuals')\n",
    "fig.suptitle('Residuals', fontsize=15, y=0.92)"
   ]
  },
  {
   "cell_type": "markdown",
   "metadata": {},
   "source": [
    "        \n",
    "                                                          SUMMARY:\n",
    "VISUALIZATIONS:\n",
    "\n",
    "As a primary means to graphically depict our dataset, boxplots has been used here. It divides our very large dataset into the quartiles which makes it easier to draw conclusions based on their quartile ranges and outliers. Note that there is one country as an outlier in health expenditure which is United States which spends the highest on health matters among all the other countries, and first quartile at 0.05 and third quartile at around 0.08. While in the case of education expenditure, we see Botswana as an outlier spending highest on education nearly 9.242205% of it's GDP. Note that results might differ with a very thin line of difference since we have neglected all the countries with the null values.The data of total investment spending is on per capita rather than % of their GDP, therefore we see many outliers in that data. But we can actually consider it wide spreaded than any other dataset. Whereas there are no outliers at all in the infrastructural quality which suggest that almost all of the above mentioned countires spend considerably similar amount of their resources for buildings and infrastructure whose interquartile range lies between 3 and 5.\n",
    "\n",
    "DESCRIPTIVE STATISTICS:\n",
    "\n",
    "Further, we found the mean and median of all our values and saw that mean and median values are close enough to each other which suggest that our fairly evenly distributed.The mean and median values of education expenditure is highest among health, education and infrastructure which I guess is interestingly good that countries give most importance to education than any other basic necessities."
   ]
  }
 ],
 "metadata": {
  "kernelspec": {
   "display_name": "Python 3",
   "language": "python",
   "name": "python3"
  },
  "language_info": {
   "codemirror_mode": {
    "name": "ipython",
    "version": 3
   },
   "file_extension": ".py",
   "mimetype": "text/x-python",
   "name": "python",
   "nbconvert_exporter": "python",
   "pygments_lexer": "ipython3",
   "version": "3.8.3"
  }
 },
 "nbformat": 4,
 "nbformat_minor": 2
}
